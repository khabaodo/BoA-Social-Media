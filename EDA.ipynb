{
 "cells": [
  {
   "cell_type": "code",
   "execution_count": 85,
   "metadata": {},
   "outputs": [],
   "source": [
    "import numpy as np\n",
    "import pandas as pd\n",
    "import matplotlib.pyplot as plt\n",
    "import seaborn as sns\n",
    "import re\n",
    "import datetime as dt"
   ]
  },
  {
   "cell_type": "markdown",
   "metadata": {},
   "source": [
    "# Part 1. Prepare the dataset"
   ]
  },
  {
   "cell_type": "markdown",
   "metadata": {},
   "source": [
    "- To facilitate the exploring process, Three tabs are extracted from the original `Bofa Data_USF.xlsx` file and saved as csv files: `BAC_Dates.csv`, `BofA_daily_volumes.csv`, and `BofA_monthly_volumnes.csv`. \n",
    "- Those three files are read using pandas DataFrame. \n",
    "- Regarding the `BAC_Dates.csv`, only the first two columns, `Key Dates` and `Topic`, were read. Other columns either contain links or nothing."
   ]
  },
  {
   "cell_type": "code",
   "execution_count": 86,
   "metadata": {},
   "outputs": [],
   "source": [
    "events = pd.read_csv('BAC_Dates.csv', encoding='cp1252')[['Key Dates', 'Topic']]\n",
    "monthly = pd.read_csv('BofA_monthly_volumes.csv')\n",
    "daily = pd.read_csv('BofA_daily_volumes.csv')"
   ]
  },
  {
   "cell_type": "markdown",
   "metadata": {},
   "source": [
    "## Part 1.1 Standardize the column name"
   ]
  },
  {
   "cell_type": "markdown",
   "metadata": {},
   "source": [
    "- Add a duration column in the `events` df\n",
    "- Set the default duration to 1"
   ]
  },
  {
   "cell_type": "code",
   "execution_count": 87,
   "metadata": {},
   "outputs": [],
   "source": [
    "events['duration'] = 1"
   ]
  },
  {
   "cell_type": "markdown",
   "metadata": {},
   "source": [
    "For all three dfs:\n",
    "- Standardize the columns' name\n",
    "- Add name to unnamed columns\n",
    "- Standardize dates columns"
   ]
  },
  {
   "cell_type": "code",
   "execution_count": 88,
   "metadata": {},
   "outputs": [],
   "source": [
    "# Column names\n",
    "events.columns = ['key_dates', 'topic', 'duration']\n",
    "monthly.columns = ['months', 'monthly_volume','monthly_net_sentiment']\n",
    "daily.columns = ['dates', 'daily_volume', 'daily_net_sentiment']\n",
    "\n",
    "# Convert to datetime of the daily df\n",
    "daily['dates'] = pd.to_datetime(daily['dates'])"
   ]
  },
  {
   "cell_type": "markdown",
   "metadata": {},
   "source": [
    "## Part 1.2: Drop blank rows and impute missing `key_dates`"
   ]
  },
  {
   "cell_type": "code",
   "execution_count": 89,
   "metadata": {},
   "outputs": [
    {
     "data": {
      "text/html": [
       "<div>\n",
       "<style scoped>\n",
       "    .dataframe tbody tr th:only-of-type {\n",
       "        vertical-align: middle;\n",
       "    }\n",
       "\n",
       "    .dataframe tbody tr th {\n",
       "        vertical-align: top;\n",
       "    }\n",
       "\n",
       "    .dataframe thead th {\n",
       "        text-align: right;\n",
       "    }\n",
       "</style>\n",
       "<table border=\"1\" class=\"dataframe\">\n",
       "  <thead>\n",
       "    <tr style=\"text-align: right;\">\n",
       "      <th></th>\n",
       "      <th>key_dates</th>\n",
       "      <th>topic</th>\n",
       "      <th>duration</th>\n",
       "    </tr>\n",
       "  </thead>\n",
       "  <tbody>\n",
       "    <tr>\n",
       "      <th>153</th>\n",
       "      <td>NaN</td>\n",
       "      <td>NaN</td>\n",
       "      <td>1</td>\n",
       "    </tr>\n",
       "    <tr>\n",
       "      <th>1250</th>\n",
       "      <td>NaN</td>\n",
       "      <td>NaN</td>\n",
       "      <td>1</td>\n",
       "    </tr>\n",
       "    <tr>\n",
       "      <th>1251</th>\n",
       "      <td>NaN</td>\n",
       "      <td>NaN</td>\n",
       "      <td>1</td>\n",
       "    </tr>\n",
       "    <tr>\n",
       "      <th>1256</th>\n",
       "      <td>NaN</td>\n",
       "      <td>A paradoy video that included footage from the...</td>\n",
       "      <td>1</td>\n",
       "    </tr>\n",
       "    <tr>\n",
       "      <th>1257</th>\n",
       "      <td>NaN</td>\n",
       "      <td>AOC shared this tweet and negatively commented...</td>\n",
       "      <td>1</td>\n",
       "    </tr>\n",
       "    <tr>\n",
       "      <th>1259</th>\n",
       "      <td>NaN</td>\n",
       "      <td>NaN</td>\n",
       "      <td>1</td>\n",
       "    </tr>\n",
       "  </tbody>\n",
       "</table>\n",
       "</div>"
      ],
      "text/plain": [
       "     key_dates                                              topic  duration\n",
       "153        NaN                                                NaN         1\n",
       "1250       NaN                                                NaN         1\n",
       "1251       NaN                                                NaN         1\n",
       "1256       NaN  A paradoy video that included footage from the...         1\n",
       "1257       NaN  AOC shared this tweet and negatively commented...         1\n",
       "1259       NaN                                                NaN         1"
      ]
     },
     "execution_count": 89,
     "metadata": {},
     "output_type": "execute_result"
    }
   ],
   "source": [
    "# Identify missing values for key_dates\n",
    "events[events.key_dates.isnull()]"
   ]
  },
  {
   "cell_type": "code",
   "execution_count": 90,
   "metadata": {},
   "outputs": [
    {
     "data": {
      "text/html": [
       "<div>\n",
       "<style scoped>\n",
       "    .dataframe tbody tr th:only-of-type {\n",
       "        vertical-align: middle;\n",
       "    }\n",
       "\n",
       "    .dataframe tbody tr th {\n",
       "        vertical-align: top;\n",
       "    }\n",
       "\n",
       "    .dataframe thead th {\n",
       "        text-align: right;\n",
       "    }\n",
       "</style>\n",
       "<table border=\"1\" class=\"dataframe\">\n",
       "  <thead>\n",
       "    <tr style=\"text-align: right;\">\n",
       "      <th></th>\n",
       "      <th>key_dates</th>\n",
       "      <th>topic</th>\n",
       "      <th>duration</th>\n",
       "    </tr>\n",
       "  </thead>\n",
       "  <tbody>\n",
       "    <tr>\n",
       "      <th>1256</th>\n",
       "      <td>NaN</td>\n",
       "      <td>A paradoy video that included footage from the...</td>\n",
       "      <td>1</td>\n",
       "    </tr>\n",
       "    <tr>\n",
       "      <th>1257</th>\n",
       "      <td>NaN</td>\n",
       "      <td>AOC shared this tweet and negatively commented...</td>\n",
       "      <td>1</td>\n",
       "    </tr>\n",
       "  </tbody>\n",
       "</table>\n",
       "</div>"
      ],
      "text/plain": [
       "     key_dates                                              topic  duration\n",
       "1256       NaN  A paradoy video that included footage from the...         1\n",
       "1257       NaN  AOC shared this tweet and negatively commented...         1"
      ]
     },
     "execution_count": 90,
     "metadata": {},
     "output_type": "execute_result"
    }
   ],
   "source": [
    "# Drop blank rows\n",
    "events = events.drop([153, 1250, 1251, 1259])\n",
    "events[events.key_dates.isnull()]"
   ]
  },
  {
   "cell_type": "markdown",
   "metadata": {},
   "source": [
    "The two events corresponding to the missing `key_dates` are Sep 22, 2022 according to the Twitter link attached in the excel file."
   ]
  },
  {
   "cell_type": "code",
   "execution_count": 91,
   "metadata": {},
   "outputs": [],
   "source": [
    "events.loc[1256, 'key_dates'] = '09/22/2022'\n",
    "events.loc[1257, 'key_dates'] = '09/22/2022'"
   ]
  },
  {
   "cell_type": "markdown",
   "metadata": {},
   "source": [
    "## Part 1.3: Standardize the `key_dates` columns in the `events` df"
   ]
  },
  {
   "cell_type": "code",
   "execution_count": 92,
   "metadata": {},
   "outputs": [],
   "source": [
    "def multipleDateEvent(df):\n",
    "    \"\"\"\n",
    "    output:\n",
    "        date_l: a list of dates whose events last more than 1 day\n",
    "    \"\"\"\n",
    "    date_l = []\n",
    "    for date in df[df['key_dates'].notnull()]['key_dates']:\n",
    "        if '&' in date or '-' in date or 'and' in date:\n",
    "            date_l.append(date)\n",
    "    return date_l"
   ]
  },
  {
   "cell_type": "code",
   "execution_count": 93,
   "metadata": {},
   "outputs": [],
   "source": [
    "def validate(date_text):\n",
    "    \"\"\"\n",
    "    input:\n",
    "        date_text: a string date\n",
    "    output:\n",
    "        True: if the string can be converted to datetime format\n",
    "        False: if the string can't be converted to datetime format\n",
    "    \"\"\"\n",
    "    try:\n",
    "        pd.to_datetime(date_text, infer_datetime_format=True)\n",
    "        return True\n",
    "    except ValueError:\n",
    "        return False"
   ]
  },
  {
   "cell_type": "code",
   "execution_count": 94,
   "metadata": {},
   "outputs": [],
   "source": [
    "def getStandardizedDates(multi_dates):\n",
    "    \"\"\"\n",
    "    input:\n",
    "        multi_dates: a string in the date_l that can't be converted to datetime format even after splitting\n",
    "    output:\n",
    "        standardized_date: a list of dates that is splitted and can be converted to datetime format\n",
    "    \"\"\"\n",
    "    standardized_dates = []\n",
    "    # Split the string by either - or & and assign it to a list\n",
    "    date_split = re.split(r'[-&]|and', multi_dates)\n",
    "    \n",
    "    # If only the first string of the list can be converted to datetime format\n",
    "    if validate(date_split[0]) == True and validate(date_split[1]) == False:\n",
    "        \n",
    "        # Append the year of the first string to the second string\n",
    "        date_split[1] = date_split[1] + '/' + date_split[0].split('/')[-1]\n",
    "    \n",
    "    # If only the second string of the list can be converted to datetime format\n",
    "    elif validate(date_split[0]) == False and validate(date_split[1]) == True :\n",
    "        \n",
    "        # Append the year of the second string to the first string\n",
    "        date_split[0] = date_split[0] + '/' + date_split[1].split('/')[-1]\n",
    "    \n",
    "    # return the editted list\n",
    "    # Remove any blank space around the dates\n",
    "    standardized_dates = [date_split[0].strip(), date_split[1].strip()]\n",
    "    return standardized_dates"
   ]
  },
  {
   "cell_type": "code",
   "execution_count": 95,
   "metadata": {},
   "outputs": [],
   "source": [
    "def updateDuration(events, date_l):\n",
    "    \"\"\"\n",
    "    Update the duration and key_dates\n",
    "    ----------\n",
    "    input:\n",
    "        events: the `events` df\n",
    "        date_l: list of string dates that have multiple dates\n",
    "    output:\n",
    "        events: events df with adjusted duration and key_dates\n",
    "    \"\"\"\n",
    "    \n",
    "    # Iterate through every rows of the dataframe       \n",
    "    for index, row in events.iterrows():\n",
    "        \n",
    "        # Check if the key_dates of that rows is in the special date_l:\n",
    "        if row['key_dates'] in date_l:\n",
    "            \n",
    "            # Get a list of standardized dates\n",
    "            standardized_dates = getStandardizedDates(row['key_dates'])\n",
    "\n",
    "            # If the format of both days in the standardized_dates list is valid\n",
    "            if validate(standardized_dates[0]) and validate(standardized_dates[1]):\n",
    "\n",
    "                # Compute the time difference between the two dates\n",
    "                # Assign the adjusted different to the duration column\n",
    "                events.loc[index, 'duration'] = (pd.to_datetime(standardized_dates[1], infer_datetime_format=True) - \\\n",
    "                                           pd.to_datetime(standardized_dates[0], infer_datetime_format=True)).days + 1\n",
    "                \n",
    "                # Assign the first standardized date to the key_dates columns\n",
    "                events.loc[index, 'key_dates'] = standardized_dates[0] + '&' + standardized_dates[1]\n",
    "    return events"
   ]
  },
  {
   "cell_type": "code",
   "execution_count": 96,
   "metadata": {},
   "outputs": [],
   "source": [
    "def removeSecondKeyDates(events, date_l):\n",
    "    \"\"\"\n",
    "    Remove the second dates in the list of events with multiple_dates\n",
    "    ------------\n",
    "    input:\n",
    "        events: the `events` df\n",
    "        date_l: list of string dates that have multiple dates\n",
    "    output:\n",
    "        events: `events` df with the second dates in `key_dates` removed   \n",
    "    \"\"\"\n",
    "    # Iterate through every rows of the dataframe       \n",
    "    for index, row in events.iterrows():\n",
    "        \n",
    "        # Check if the key_dates of that rows is in the special date_l:\n",
    "        if row['key_dates'] in date_l:\n",
    "            \n",
    "            # Get a list of standardized dates\n",
    "            standardized_dates = getStandardizedDates(row['key_dates'])\n",
    "\n",
    "            # If the format of both days in the standardized_dates list is valid\n",
    "            if validate(standardized_dates[0]) and validate(standardized_dates[1]):\n",
    "\n",
    "                # Assign the first standardized date to the key_dates columns\n",
    "                events.loc[index, 'key_dates'] = standardized_dates[0]\n",
    "    return events"
   ]
  },
  {
   "cell_type": "markdown",
   "metadata": {},
   "source": [
    "Update the `events` 1st time:\n",
    "- Update rows in the `duration` columnn, whose `key_dates` can be converted to datetime format\n",
    "- Update rows in the `key_dates`column that can be converted to datetime format "
   ]
  },
  {
   "cell_type": "code",
   "execution_count": 97,
   "metadata": {},
   "outputs": [],
   "source": [
    "# Get duration whose key_dates can be converted to datetime format\n",
    "events = updateDuration(events, multipleDateEvent(events))"
   ]
  },
  {
   "cell_type": "markdown",
   "metadata": {},
   "source": [
    "The `event` after updating the first time. "
   ]
  },
  {
   "cell_type": "code",
   "execution_count": 98,
   "metadata": {},
   "outputs": [
    {
     "data": {
      "text/html": [
       "<div>\n",
       "<style scoped>\n",
       "    .dataframe tbody tr th:only-of-type {\n",
       "        vertical-align: middle;\n",
       "    }\n",
       "\n",
       "    .dataframe tbody tr th {\n",
       "        vertical-align: top;\n",
       "    }\n",
       "\n",
       "    .dataframe thead th {\n",
       "        text-align: right;\n",
       "    }\n",
       "</style>\n",
       "<table border=\"1\" class=\"dataframe\">\n",
       "  <thead>\n",
       "    <tr style=\"text-align: right;\">\n",
       "      <th></th>\n",
       "      <th>key_dates</th>\n",
       "      <th>topic</th>\n",
       "      <th>duration</th>\n",
       "    </tr>\n",
       "  </thead>\n",
       "  <tbody>\n",
       "    <tr>\n",
       "      <th>36</th>\n",
       "      <td>6/3/2011&amp;6/6/11</td>\n",
       "      <td>Florida Homeowner Forecloses on BAC Branch \\n</td>\n",
       "      <td>4</td>\n",
       "    </tr>\n",
       "    <tr>\n",
       "      <th>68</th>\n",
       "      <td>9/30/2011&amp;10/3/2011</td>\n",
       "      <td>BAC Online Banking Outage</td>\n",
       "      <td>4</td>\n",
       "    </tr>\n",
       "    <tr>\n",
       "      <th>106</th>\n",
       "      <td>2/1/2012&amp;2/3/2012</td>\n",
       "      <td>2012 Chicago Marathon Registration Begins; Fac...</td>\n",
       "      <td>3</td>\n",
       "    </tr>\n",
       "    <tr>\n",
       "      <th>176</th>\n",
       "      <td>9/18/2012&amp;9/19/2012</td>\n",
       "      <td>Bank Of America Website Slows After Islamic Ha...</td>\n",
       "      <td>2</td>\n",
       "    </tr>\n",
       "    <tr>\n",
       "      <th>297</th>\n",
       "      <td>8/2&amp;8/3</td>\n",
       "      <td>BAC: Justice Department Intends To File Civil ...</td>\n",
       "      <td>1</td>\n",
       "    </tr>\n",
       "    <tr>\n",
       "      <th>357</th>\n",
       "      <td>1/30 - 2/4</td>\n",
       "      <td>Harvard Economist Withdraws $1M</td>\n",
       "      <td>1</td>\n",
       "    </tr>\n",
       "    <tr>\n",
       "      <th>361</th>\n",
       "      <td>2/6/2014&amp;2/7/14</td>\n",
       "      <td>Lisa McIntire Credit Card incident</td>\n",
       "      <td>2</td>\n",
       "    </tr>\n",
       "    <tr>\n",
       "      <th>401</th>\n",
       "      <td>5/12-5/16</td>\n",
       "      <td>GAP Belfast</td>\n",
       "      <td>1</td>\n",
       "    </tr>\n",
       "    <tr>\n",
       "      <th>517</th>\n",
       "      <td>6/8/2015&amp;6/9/15</td>\n",
       "      <td>McKinney, TX Contractor Incident</td>\n",
       "      <td>2</td>\n",
       "    </tr>\n",
       "    <tr>\n",
       "      <th>561</th>\n",
       "      <td>12/1-12/13</td>\n",
       "      <td>Paris Climate Summit</td>\n",
       "      <td>1</td>\n",
       "    </tr>\n",
       "  </tbody>\n",
       "</table>\n",
       "</div>"
      ],
      "text/plain": [
       "               key_dates                                              topic  \\\n",
       "36       6/3/2011&6/6/11      Florida Homeowner Forecloses on BAC Branch \\n   \n",
       "68   9/30/2011&10/3/2011                          BAC Online Banking Outage   \n",
       "106    2/1/2012&2/3/2012  2012 Chicago Marathon Registration Begins; Fac...   \n",
       "176  9/18/2012&9/19/2012  Bank Of America Website Slows After Islamic Ha...   \n",
       "297              8/2&8/3  BAC: Justice Department Intends To File Civil ...   \n",
       "357           1/30 - 2/4                    Harvard Economist Withdraws $1M   \n",
       "361      2/6/2014&2/7/14                 Lisa McIntire Credit Card incident   \n",
       "401            5/12-5/16                                        GAP Belfast   \n",
       "517      6/8/2015&6/9/15                   McKinney, TX Contractor Incident   \n",
       "561           12/1-12/13                               Paris Climate Summit   \n",
       "\n",
       "     duration  \n",
       "36          4  \n",
       "68          4  \n",
       "106         3  \n",
       "176         2  \n",
       "297         1  \n",
       "357         1  \n",
       "361         2  \n",
       "401         1  \n",
       "517         2  \n",
       "561         1  "
      ]
     },
     "execution_count": 98,
     "metadata": {},
     "output_type": "execute_result"
    }
   ],
   "source": [
    "events[events['key_dates'].isin(multipleDateEvent(events))].head(10)"
   ]
  },
  {
   "cell_type": "markdown",
   "metadata": {},
   "source": [
    "The `duration` of events that last multiple dates can't be 1. Thus, there is some problem with rows at `key_dates` whose `duration` is 1. "
   ]
  },
  {
   "cell_type": "code",
   "execution_count": 99,
   "metadata": {},
   "outputs": [
    {
     "data": {
      "text/html": [
       "<div>\n",
       "<style scoped>\n",
       "    .dataframe tbody tr th:only-of-type {\n",
       "        vertical-align: middle;\n",
       "    }\n",
       "\n",
       "    .dataframe tbody tr th {\n",
       "        vertical-align: top;\n",
       "    }\n",
       "\n",
       "    .dataframe thead th {\n",
       "        text-align: right;\n",
       "    }\n",
       "</style>\n",
       "<table border=\"1\" class=\"dataframe\">\n",
       "  <thead>\n",
       "    <tr style=\"text-align: right;\">\n",
       "      <th></th>\n",
       "      <th>key_dates</th>\n",
       "      <th>topic</th>\n",
       "      <th>duration</th>\n",
       "    </tr>\n",
       "  </thead>\n",
       "  <tbody>\n",
       "    <tr>\n",
       "      <th>297</th>\n",
       "      <td>8/2&amp;8/3</td>\n",
       "      <td>BAC: Justice Department Intends To File Civil ...</td>\n",
       "      <td>1</td>\n",
       "    </tr>\n",
       "    <tr>\n",
       "      <th>357</th>\n",
       "      <td>1/30 - 2/4</td>\n",
       "      <td>Harvard Economist Withdraws $1M</td>\n",
       "      <td>1</td>\n",
       "    </tr>\n",
       "    <tr>\n",
       "      <th>401</th>\n",
       "      <td>5/12-5/16</td>\n",
       "      <td>GAP Belfast</td>\n",
       "      <td>1</td>\n",
       "    </tr>\n",
       "    <tr>\n",
       "      <th>561</th>\n",
       "      <td>12/1-12/13</td>\n",
       "      <td>Paris Climate Summit</td>\n",
       "      <td>1</td>\n",
       "    </tr>\n",
       "    <tr>\n",
       "      <th>671</th>\n",
       "      <td>11/29 &amp;12/1</td>\n",
       "      <td>BofA #GivingTuesday Activities</td>\n",
       "      <td>1</td>\n",
       "    </tr>\n",
       "    <tr>\n",
       "      <th>702</th>\n",
       "      <td>2/7&amp;2/8</td>\n",
       "      <td>BofA opens branches without employees</td>\n",
       "      <td>1</td>\n",
       "    </tr>\n",
       "    <tr>\n",
       "      <th>726</th>\n",
       "      <td>4/3-4/5</td>\n",
       "      <td>BofA campaign with Dodgers</td>\n",
       "      <td>1</td>\n",
       "    </tr>\n",
       "    <tr>\n",
       "      <th>728</th>\n",
       "      <td>4/12-4/13</td>\n",
       "      <td>Android Pay now works with BofA</td>\n",
       "      <td>1</td>\n",
       "    </tr>\n",
       "    <tr>\n",
       "      <th>750</th>\n",
       "      <td>6/1&amp;6/2</td>\n",
       "      <td>Michelle Moore named Digital Banker of the year</td>\n",
       "      <td>1</td>\n",
       "    </tr>\n",
       "    <tr>\n",
       "      <th>754</th>\n",
       "      <td>6/12-6/13</td>\n",
       "      <td>Shakespeare Play Sponsorship</td>\n",
       "      <td>1</td>\n",
       "    </tr>\n",
       "    <tr>\n",
       "      <th>763</th>\n",
       "      <td>7/13-7/14</td>\n",
       "      <td>Contractor Freed after getting trapped in BofA...</td>\n",
       "      <td>1</td>\n",
       "    </tr>\n",
       "    <tr>\n",
       "      <th>1098</th>\n",
       "      <td>10/6-10/11</td>\n",
       "      <td>Chicago Marathon virtual experience</td>\n",
       "      <td>1</td>\n",
       "    </tr>\n",
       "    <tr>\n",
       "      <th>1115</th>\n",
       "      <td>12/7-12/13</td>\n",
       "      <td>RED tweet thanking BofA for their support</td>\n",
       "      <td>1</td>\n",
       "    </tr>\n",
       "  </tbody>\n",
       "</table>\n",
       "</div>"
      ],
      "text/plain": [
       "        key_dates                                              topic  duration\n",
       "297       8/2&8/3  BAC: Justice Department Intends To File Civil ...         1\n",
       "357    1/30 - 2/4                    Harvard Economist Withdraws $1M         1\n",
       "401     5/12-5/16                                        GAP Belfast         1\n",
       "561    12/1-12/13                               Paris Climate Summit         1\n",
       "671   11/29 &12/1                     BofA #GivingTuesday Activities         1\n",
       "702       2/7&2/8             BofA opens branches without employees          1\n",
       "726       4/3-4/5                        BofA campaign with Dodgers          1\n",
       "728     4/12-4/13                    Android Pay now works with BofA         1\n",
       "750       6/1&6/2   Michelle Moore named Digital Banker of the year          1\n",
       "754     6/12-6/13                       Shakespeare Play Sponsorship         1\n",
       "763     7/13-7/14  Contractor Freed after getting trapped in BofA...         1\n",
       "1098   10/6-10/11                Chicago Marathon virtual experience         1\n",
       "1115   12/7-12/13          RED tweet thanking BofA for their support         1"
      ]
     },
     "execution_count": 99,
     "metadata": {},
     "output_type": "execute_result"
    }
   ],
   "source": [
    "events[events['key_dates'].isin(multipleDateEvent(events)) & (events['duration'] == 1)]"
   ]
  },
  {
   "cell_type": "markdown",
   "metadata": {},
   "source": [
    "You can see that the these are `key_dates` that miss the year part. We can manually add the year to those `key_dates` because the `key_dates` are ordered chronologically so we could determine the year based on `key_dates` around it. For example, at the index 297, we can see that rows around that has the year of 2013. Therefore, we could add 2013 at the end of the cell at index 297"
   ]
  },
  {
   "cell_type": "code",
   "execution_count": 100,
   "metadata": {},
   "outputs": [
    {
     "data": {
      "text/html": [
       "<div>\n",
       "<style scoped>\n",
       "    .dataframe tbody tr th:only-of-type {\n",
       "        vertical-align: middle;\n",
       "    }\n",
       "\n",
       "    .dataframe tbody tr th {\n",
       "        vertical-align: top;\n",
       "    }\n",
       "\n",
       "    .dataframe thead th {\n",
       "        text-align: right;\n",
       "    }\n",
       "</style>\n",
       "<table border=\"1\" class=\"dataframe\">\n",
       "  <thead>\n",
       "    <tr style=\"text-align: right;\">\n",
       "      <th></th>\n",
       "      <th>key_dates</th>\n",
       "      <th>topic</th>\n",
       "      <th>duration</th>\n",
       "    </tr>\n",
       "  </thead>\n",
       "  <tbody>\n",
       "    <tr>\n",
       "      <th>293</th>\n",
       "      <td>7/18/2013</td>\n",
       "      <td>Bank of America's Recipe for Getting Away with...</td>\n",
       "      <td>1</td>\n",
       "    </tr>\n",
       "    <tr>\n",
       "      <th>294</th>\n",
       "      <td>7/25/2013</td>\n",
       "      <td>Merrill Lynch Accused Of Telling Women To Sedu...</td>\n",
       "      <td>1</td>\n",
       "    </tr>\n",
       "    <tr>\n",
       "      <th>295</th>\n",
       "      <td>7/29/2013</td>\n",
       "      <td>LEED Lies: Bank Of America’s “Green” Skyscrape...</td>\n",
       "      <td>1</td>\n",
       "    </tr>\n",
       "    <tr>\n",
       "      <th>296</th>\n",
       "      <td>7/31/2013</td>\n",
       "      <td>Judge Rejects Fed’s Cap on Debit Card Fees\\n</td>\n",
       "      <td>1</td>\n",
       "    </tr>\n",
       "    <tr>\n",
       "      <th>297</th>\n",
       "      <td>8/2&amp;8/3</td>\n",
       "      <td>BAC: Justice Department Intends To File Civil ...</td>\n",
       "      <td>1</td>\n",
       "    </tr>\n",
       "    <tr>\n",
       "      <th>298</th>\n",
       "      <td>8/6/2013</td>\n",
       "      <td>US government sues Bank of America over mortga...</td>\n",
       "      <td>1</td>\n",
       "    </tr>\n",
       "    <tr>\n",
       "      <th>299</th>\n",
       "      <td>8/12/2013</td>\n",
       "      <td>Bank Of America Continues Deducting Fees, Even...</td>\n",
       "      <td>1</td>\n",
       "    </tr>\n",
       "    <tr>\n",
       "      <th>300</th>\n",
       "      <td>8/16/2013</td>\n",
       "      <td>Bank of America May Merge Merrill Lynch With P...</td>\n",
       "      <td>1</td>\n",
       "    </tr>\n",
       "    <tr>\n",
       "      <th>301</th>\n",
       "      <td>8/16/2013</td>\n",
       "      <td>Bank of America rose 13 cents, or 1 percent, t...</td>\n",
       "      <td>1</td>\n",
       "    </tr>\n",
       "    <tr>\n",
       "      <th>302</th>\n",
       "      <td>8/20/2013</td>\n",
       "      <td>Untimely death of BAML Intern</td>\n",
       "      <td>1</td>\n",
       "    </tr>\n",
       "    <tr>\n",
       "      <th>303</th>\n",
       "      <td>8/20/2013</td>\n",
       "      <td>Judge endorses use of fraud law against Bank o...</td>\n",
       "      <td>1</td>\n",
       "    </tr>\n",
       "    <tr>\n",
       "      <th>304</th>\n",
       "      <td>8/26/2013</td>\n",
       "      <td>U.S. judge tosses BofA suit vs FDIC over $1.7 ...</td>\n",
       "      <td>1</td>\n",
       "    </tr>\n",
       "    <tr>\n",
       "      <th>305</th>\n",
       "      <td>8/28/2013</td>\n",
       "      <td>BofA Settles Black Advisers’ Bias Suit for $16...</td>\n",
       "      <td>1</td>\n",
       "    </tr>\n",
       "  </tbody>\n",
       "</table>\n",
       "</div>"
      ],
      "text/plain": [
       "     key_dates                                              topic  duration\n",
       "293  7/18/2013  Bank of America's Recipe for Getting Away with...         1\n",
       "294  7/25/2013  Merrill Lynch Accused Of Telling Women To Sedu...         1\n",
       "295  7/29/2013  LEED Lies: Bank Of America’s “Green” Skyscrape...         1\n",
       "296  7/31/2013       Judge Rejects Fed’s Cap on Debit Card Fees\\n         1\n",
       "297    8/2&8/3  BAC: Justice Department Intends To File Civil ...         1\n",
       "298   8/6/2013  US government sues Bank of America over mortga...         1\n",
       "299  8/12/2013  Bank Of America Continues Deducting Fees, Even...         1\n",
       "300  8/16/2013  Bank of America May Merge Merrill Lynch With P...         1\n",
       "301  8/16/2013  Bank of America rose 13 cents, or 1 percent, t...         1\n",
       "302  8/20/2013                      Untimely death of BAML Intern         1\n",
       "303  8/20/2013  Judge endorses use of fraud law against Bank o...         1\n",
       "304  8/26/2013  U.S. judge tosses BofA suit vs FDIC over $1.7 ...         1\n",
       "305  8/28/2013  BofA Settles Black Advisers’ Bias Suit for $16...         1"
      ]
     },
     "execution_count": 100,
     "metadata": {},
     "output_type": "execute_result"
    }
   ],
   "source": [
    "events.iloc[292:305,:]"
   ]
  },
  {
   "cell_type": "markdown",
   "metadata": {},
   "source": [
    "Update the `key_dates` for all the index whose rows have no year associated to it"
   ]
  },
  {
   "cell_type": "code",
   "execution_count": 101,
   "metadata": {},
   "outputs": [],
   "source": [
    "events.loc[297, 'key_dates'] += '/2013'\n",
    "events.loc[357, 'key_dates'] += '/2014'\n",
    "events.loc[401, 'key_dates'] += '/2014'\n",
    "events.loc[561, 'key_dates'] += '/2015'\n",
    "events.loc[671, 'key_dates'] += '/2016'\n",
    "events.loc[702, 'key_dates'] += '/2017'\n",
    "events.loc[726, 'key_dates'] += '/2017'\n",
    "events.loc[728, 'key_dates'] += '/2017'\n",
    "events.loc[750, 'key_dates'] += '/2017'\n",
    "events.loc[754, 'key_dates'] += '/2017'\n",
    "events.loc[763, 'key_dates'] += '/2017'\n",
    "events.loc[1098, 'key_dates'] += '/2020'\n",
    "events.loc[1115, 'key_dates'] += '/2020'\n"
   ]
  },
  {
   "cell_type": "markdown",
   "metadata": {},
   "source": [
    "Update the `events` df the 2nd time after adding the year parts"
   ]
  },
  {
   "cell_type": "code",
   "execution_count": 102,
   "metadata": {},
   "outputs": [],
   "source": [
    "events = updateDuration(events, multipleDateEvent(events))"
   ]
  },
  {
   "cell_type": "markdown",
   "metadata": {},
   "source": [
    "There are some events, whose `duration` last more than 30 days. This is unusual. When analyzing these dates, it seems that the input format for date is `%d/%m/%y`, not `%m/%d/%y` that is used in the U.S. Check for dates with the format `%d/%m/%y`"
   ]
  },
  {
   "cell_type": "code",
   "execution_count": 103,
   "metadata": {},
   "outputs": [
    {
     "data": {
      "text/html": [
       "<div>\n",
       "<style scoped>\n",
       "    .dataframe tbody tr th:only-of-type {\n",
       "        vertical-align: middle;\n",
       "    }\n",
       "\n",
       "    .dataframe tbody tr th {\n",
       "        vertical-align: top;\n",
       "    }\n",
       "\n",
       "    .dataframe thead th {\n",
       "        text-align: right;\n",
       "    }\n",
       "</style>\n",
       "<table border=\"1\" class=\"dataframe\">\n",
       "  <thead>\n",
       "    <tr style=\"text-align: right;\">\n",
       "      <th></th>\n",
       "      <th>key_dates</th>\n",
       "      <th>topic</th>\n",
       "      <th>duration</th>\n",
       "    </tr>\n",
       "  </thead>\n",
       "  <tbody>\n",
       "    <tr>\n",
       "      <th>787</th>\n",
       "      <td>07/09/2017&amp;08/09/2017</td>\n",
       "      <td>BofA extending contactless options with FitPay</td>\n",
       "      <td>32</td>\n",
       "    </tr>\n",
       "    <tr>\n",
       "      <th>788</th>\n",
       "      <td>07/09/2017&amp;08/09/2017</td>\n",
       "      <td>#VietnamwarPBS</td>\n",
       "      <td>32</td>\n",
       "    </tr>\n",
       "    <tr>\n",
       "      <th>831</th>\n",
       "      <td>04/01/18&amp;05/01/18</td>\n",
       "      <td>Tweet re: Tax cut wage increases</td>\n",
       "      <td>31</td>\n",
       "    </tr>\n",
       "    <tr>\n",
       "      <th>850</th>\n",
       "      <td>03/03/18&amp;04/03/18</td>\n",
       "      <td>Tweet re: Planned Parenthood donors</td>\n",
       "      <td>32</td>\n",
       "    </tr>\n",
       "    <tr>\n",
       "      <th>865</th>\n",
       "      <td>07/05/18&amp;08/05/18</td>\n",
       "      <td>BofA loan to Remington</td>\n",
       "      <td>32</td>\n",
       "    </tr>\n",
       "  </tbody>\n",
       "</table>\n",
       "</div>"
      ],
      "text/plain": [
       "                 key_dates                                           topic  \\\n",
       "787  07/09/2017&08/09/2017  BofA extending contactless options with FitPay   \n",
       "788  07/09/2017&08/09/2017                                  #VietnamwarPBS   \n",
       "831      04/01/18&05/01/18                Tweet re: Tax cut wage increases   \n",
       "850      03/03/18&04/03/18             Tweet re: Planned Parenthood donors   \n",
       "865      07/05/18&08/05/18                          BofA loan to Remington   \n",
       "\n",
       "     duration  \n",
       "787        32  \n",
       "788        32  \n",
       "831        31  \n",
       "850        32  \n",
       "865        32  "
      ]
     },
     "execution_count": 103,
     "metadata": {},
     "output_type": "execute_result"
    }
   ],
   "source": [
    "events[events['key_dates'].isin(multipleDateEvent(events)) & (events['duration'] > 30)]"
   ]
  },
  {
   "cell_type": "markdown",
   "metadata": {},
   "source": [
    "Change the format of `key_dates` from %d/%m/%y to %m/%d/%y"
   ]
  },
  {
   "cell_type": "code",
   "execution_count": 104,
   "metadata": {},
   "outputs": [],
   "source": [
    "# Get the df that has the date format of %d/%m/%y\n",
    "wrong_format = events[events['key_dates'].isin(multipleDateEvent(events)) & (events['duration'] > 30)]\n",
    "\n",
    "# Iterate through every rows in the wrong_format df      \n",
    "for index, row in wrong_format.iterrows():\n",
    "\n",
    "    # Get a list of standardized dates\n",
    "    standardized_dates = re.split(r'[-&]|and', row['key_dates'])\n",
    "\n",
    "    # Get the date in the `%d/%m/%y`format\n",
    "    formatted_first_date = standardized_dates[0].split('/')\n",
    "    formatted_second_date = standardized_dates[1].split('/')\n",
    "    formatted_first_date = formatted_first_date[1] + '/' + formatted_first_date[0] + '/' + formatted_first_date[2]\n",
    "    formatted_second_date = formatted_second_date[1] + '/' + formatted_second_date[0] + '/' + formatted_second_date[2]\n",
    "\n",
    "    # Update the `key_dates` column of the `events` df\n",
    "    events.loc[index, 'key_dates'] = formatted_first_date + '&' + formatted_second_date                      "
   ]
  },
  {
   "cell_type": "code",
   "execution_count": 105,
   "metadata": {},
   "outputs": [
    {
     "data": {
      "text/html": [
       "<div>\n",
       "<style scoped>\n",
       "    .dataframe tbody tr th:only-of-type {\n",
       "        vertical-align: middle;\n",
       "    }\n",
       "\n",
       "    .dataframe tbody tr th {\n",
       "        vertical-align: top;\n",
       "    }\n",
       "\n",
       "    .dataframe thead th {\n",
       "        text-align: right;\n",
       "    }\n",
       "</style>\n",
       "<table border=\"1\" class=\"dataframe\">\n",
       "  <thead>\n",
       "    <tr style=\"text-align: right;\">\n",
       "      <th></th>\n",
       "      <th>key_dates</th>\n",
       "      <th>topic</th>\n",
       "      <th>duration</th>\n",
       "    </tr>\n",
       "  </thead>\n",
       "  <tbody>\n",
       "    <tr>\n",
       "      <th>787</th>\n",
       "      <td>09/07/2017&amp;09/08/2017</td>\n",
       "      <td>BofA extending contactless options with FitPay</td>\n",
       "      <td>32</td>\n",
       "    </tr>\n",
       "    <tr>\n",
       "      <th>788</th>\n",
       "      <td>09/07/2017&amp;09/08/2017</td>\n",
       "      <td>#VietnamwarPBS</td>\n",
       "      <td>32</td>\n",
       "    </tr>\n",
       "    <tr>\n",
       "      <th>831</th>\n",
       "      <td>01/04/18&amp;01/05/18</td>\n",
       "      <td>Tweet re: Tax cut wage increases</td>\n",
       "      <td>31</td>\n",
       "    </tr>\n",
       "    <tr>\n",
       "      <th>850</th>\n",
       "      <td>03/03/18&amp;03/04/18</td>\n",
       "      <td>Tweet re: Planned Parenthood donors</td>\n",
       "      <td>32</td>\n",
       "    </tr>\n",
       "    <tr>\n",
       "      <th>865</th>\n",
       "      <td>05/07/18&amp;05/08/18</td>\n",
       "      <td>BofA loan to Remington</td>\n",
       "      <td>32</td>\n",
       "    </tr>\n",
       "  </tbody>\n",
       "</table>\n",
       "</div>"
      ],
      "text/plain": [
       "                 key_dates                                           topic  \\\n",
       "787  09/07/2017&09/08/2017  BofA extending contactless options with FitPay   \n",
       "788  09/07/2017&09/08/2017                                  #VietnamwarPBS   \n",
       "831      01/04/18&01/05/18                Tweet re: Tax cut wage increases   \n",
       "850      03/03/18&03/04/18             Tweet re: Planned Parenthood donors   \n",
       "865      05/07/18&05/08/18                          BofA loan to Remington   \n",
       "\n",
       "     duration  \n",
       "787        32  \n",
       "788        32  \n",
       "831        31  \n",
       "850        32  \n",
       "865        32  "
      ]
     },
     "execution_count": 105,
     "metadata": {},
     "output_type": "execute_result"
    }
   ],
   "source": [
    "events[events['key_dates'].isin(multipleDateEvent(events)) & (events['duration'] > 30)]"
   ]
  },
  {
   "cell_type": "markdown",
   "metadata": {},
   "source": [
    "Update the `duration` the 3rd time"
   ]
  },
  {
   "cell_type": "code",
   "execution_count": 106,
   "metadata": {},
   "outputs": [],
   "source": [
    "events = updateDuration(events, multipleDateEvent(events))"
   ]
  },
  {
   "cell_type": "markdown",
   "metadata": {},
   "source": [
    "Fix other wrong date:\n",
    "- The `key_dates` at index 378 is '3/11,13'. -> Let's change it to 3/11/13\n",
    "- The `key_dates` at index 390 is '4/4/2014 (reposted from 3/25)'. -> Let's change it to 4/4/2014\n",
    "- The `key_dates` at index 578 has the year 2006 -> Let's change it to 2016\n"
   ]
  },
  {
   "cell_type": "code",
   "execution_count": 107,
   "metadata": {},
   "outputs": [],
   "source": [
    "events.loc[378, 'key_dates'] = '3/11/13'\n",
    "events.loc[390, 'key_dates'] = '4/4/2014'\n",
    "events.loc[578, 'key_dates'] = '3/3/2016'"
   ]
  },
  {
   "cell_type": "markdown",
   "metadata": {},
   "source": [
    "Remove the second dates in the list of events with multiple_dates and standardize the date format"
   ]
  },
  {
   "cell_type": "code",
   "execution_count": 108,
   "metadata": {},
   "outputs": [
    {
     "name": "stderr",
     "output_type": "stream",
     "text": [
      "C:\\Users\\Kha Do\\AppData\\Local\\Temp\\ipykernel_28128\\1781597860.py:2: UserWarning:\n",
      "\n",
      "Parsing '16/09/2017' in DD/MM/YYYY format. Provide format or specify infer_datetime_format=True for consistent parsing.\n",
      "\n"
     ]
    }
   ],
   "source": [
    "events = removeSecondKeyDates(events, multipleDateEvent(events))\n",
    "events['key_dates'] = pd.to_datetime(events['key_dates'], infer_datetime_format=True)"
   ]
  },
  {
   "cell_type": "markdown",
   "metadata": {},
   "source": [
    "## Part 1.4: Change column data types"
   ]
  },
  {
   "cell_type": "code",
   "execution_count": 109,
   "metadata": {},
   "outputs": [
    {
     "data": {
      "text/plain": [
       "dates                  datetime64[ns]\n",
       "daily_volume                   object\n",
       "daily_net_sentiment           float64\n",
       "dtype: object"
      ]
     },
     "execution_count": 109,
     "metadata": {},
     "output_type": "execute_result"
    }
   ],
   "source": [
    "daily.dtypes"
   ]
  },
  {
   "cell_type": "code",
   "execution_count": 110,
   "metadata": {},
   "outputs": [],
   "source": [
    "daily.daily_volume = daily.daily_volume.apply(lambda x: int(x.replace(',','')))"
   ]
  },
  {
   "cell_type": "markdown",
   "metadata": {},
   "source": [
    "## Part 1.5: Join the dataset"
   ]
  },
  {
   "cell_type": "markdown",
   "metadata": {},
   "source": [
    "To facilitate the analysis, join the `events` df and the `daily` df"
   ]
  },
  {
   "cell_type": "code",
   "execution_count": 111,
   "metadata": {},
   "outputs": [
    {
     "data": {
      "text/html": [
       "<div>\n",
       "<style scoped>\n",
       "    .dataframe tbody tr th:only-of-type {\n",
       "        vertical-align: middle;\n",
       "    }\n",
       "\n",
       "    .dataframe tbody tr th {\n",
       "        vertical-align: top;\n",
       "    }\n",
       "\n",
       "    .dataframe thead th {\n",
       "        text-align: right;\n",
       "    }\n",
       "</style>\n",
       "<table border=\"1\" class=\"dataframe\">\n",
       "  <thead>\n",
       "    <tr style=\"text-align: right;\">\n",
       "      <th></th>\n",
       "      <th>dates</th>\n",
       "      <th>daily_volume</th>\n",
       "      <th>daily_net_sentiment</th>\n",
       "      <th>key_dates</th>\n",
       "      <th>topic</th>\n",
       "      <th>duration</th>\n",
       "    </tr>\n",
       "  </thead>\n",
       "  <tbody>\n",
       "    <tr>\n",
       "      <th>0</th>\n",
       "      <td>2011-01-01</td>\n",
       "      <td>1050.0</td>\n",
       "      <td>-1.8</td>\n",
       "      <td>NaT</td>\n",
       "      <td>NaN</td>\n",
       "      <td>NaN</td>\n",
       "    </tr>\n",
       "    <tr>\n",
       "      <th>1</th>\n",
       "      <td>2011-01-02</td>\n",
       "      <td>1019.0</td>\n",
       "      <td>-2.7</td>\n",
       "      <td>NaT</td>\n",
       "      <td>NaN</td>\n",
       "      <td>NaN</td>\n",
       "    </tr>\n",
       "    <tr>\n",
       "      <th>2</th>\n",
       "      <td>2011-01-03</td>\n",
       "      <td>5151.0</td>\n",
       "      <td>-2.1</td>\n",
       "      <td>2011-01-03</td>\n",
       "      <td>BAC Sets Up WikiLeaks Defense Team ; BAC elimi...</td>\n",
       "      <td>1.0</td>\n",
       "    </tr>\n",
       "    <tr>\n",
       "      <th>3</th>\n",
       "      <td>2011-01-04</td>\n",
       "      <td>3517.0</td>\n",
       "      <td>-3.0</td>\n",
       "      <td>NaT</td>\n",
       "      <td>NaN</td>\n",
       "      <td>NaN</td>\n",
       "    </tr>\n",
       "    <tr>\n",
       "      <th>4</th>\n",
       "      <td>2011-01-05</td>\n",
       "      <td>2225.0</td>\n",
       "      <td>-2.4</td>\n",
       "      <td>NaT</td>\n",
       "      <td>NaN</td>\n",
       "      <td>NaN</td>\n",
       "    </tr>\n",
       "    <tr>\n",
       "      <th>...</th>\n",
       "      <td>...</td>\n",
       "      <td>...</td>\n",
       "      <td>...</td>\n",
       "      <td>...</td>\n",
       "      <td>...</td>\n",
       "      <td>...</td>\n",
       "    </tr>\n",
       "    <tr>\n",
       "      <th>4484</th>\n",
       "      <td>2022-11-24</td>\n",
       "      <td>4644.0</td>\n",
       "      <td>-2.9</td>\n",
       "      <td>NaT</td>\n",
       "      <td>NaN</td>\n",
       "      <td>NaN</td>\n",
       "    </tr>\n",
       "    <tr>\n",
       "      <th>4485</th>\n",
       "      <td>2022-11-25</td>\n",
       "      <td>4233.0</td>\n",
       "      <td>-4.5</td>\n",
       "      <td>NaT</td>\n",
       "      <td>NaN</td>\n",
       "      <td>NaN</td>\n",
       "    </tr>\n",
       "    <tr>\n",
       "      <th>4486</th>\n",
       "      <td>2022-11-26</td>\n",
       "      <td>5320.0</td>\n",
       "      <td>-4.9</td>\n",
       "      <td>2022-11-26</td>\n",
       "      <td>New post critical of the Community Affordable ...</td>\n",
       "      <td>1.0</td>\n",
       "    </tr>\n",
       "    <tr>\n",
       "      <th>4487</th>\n",
       "      <td>2022-11-27</td>\n",
       "      <td>3797.0</td>\n",
       "      <td>-4.2</td>\n",
       "      <td>NaT</td>\n",
       "      <td>NaN</td>\n",
       "      <td>NaN</td>\n",
       "    </tr>\n",
       "    <tr>\n",
       "      <th>4488</th>\n",
       "      <td>NaT</td>\n",
       "      <td>NaN</td>\n",
       "      <td>NaN</td>\n",
       "      <td>2022-11-29</td>\n",
       "      <td>Brian Moynihan predicts a mild recession</td>\n",
       "      <td>1.0</td>\n",
       "    </tr>\n",
       "  </tbody>\n",
       "</table>\n",
       "<p>4489 rows × 6 columns</p>\n",
       "</div>"
      ],
      "text/plain": [
       "          dates  daily_volume  daily_net_sentiment  key_dates  \\\n",
       "0    2011-01-01        1050.0                 -1.8        NaT   \n",
       "1    2011-01-02        1019.0                 -2.7        NaT   \n",
       "2    2011-01-03        5151.0                 -2.1 2011-01-03   \n",
       "3    2011-01-04        3517.0                 -3.0        NaT   \n",
       "4    2011-01-05        2225.0                 -2.4        NaT   \n",
       "...         ...           ...                  ...        ...   \n",
       "4484 2022-11-24        4644.0                 -2.9        NaT   \n",
       "4485 2022-11-25        4233.0                 -4.5        NaT   \n",
       "4486 2022-11-26        5320.0                 -4.9 2022-11-26   \n",
       "4487 2022-11-27        3797.0                 -4.2        NaT   \n",
       "4488        NaT           NaN                  NaN 2022-11-29   \n",
       "\n",
       "                                                  topic  duration  \n",
       "0                                                   NaN       NaN  \n",
       "1                                                   NaN       NaN  \n",
       "2     BAC Sets Up WikiLeaks Defense Team ; BAC elimi...       1.0  \n",
       "3                                                   NaN       NaN  \n",
       "4                                                   NaN       NaN  \n",
       "...                                                 ...       ...  \n",
       "4484                                                NaN       NaN  \n",
       "4485                                                NaN       NaN  \n",
       "4486  New post critical of the Community Affordable ...       1.0  \n",
       "4487                                                NaN       NaN  \n",
       "4488           Brian Moynihan predicts a mild recession       1.0  \n",
       "\n",
       "[4489 rows x 6 columns]"
      ]
     },
     "execution_count": 111,
     "metadata": {},
     "output_type": "execute_result"
    }
   ],
   "source": [
    "df = daily.merge(events, how='outer', left_on='dates', right_on='key_dates')\n",
    "df"
   ]
  },
  {
   "cell_type": "markdown",
   "metadata": {},
   "source": [
    "Add a column named `important` to easily identify important events in the joined dataset"
   ]
  },
  {
   "cell_type": "code",
   "execution_count": 112,
   "metadata": {},
   "outputs": [],
   "source": [
    "df['important'] = 0\n",
    "df.loc[df.key_dates.notnull(), 'important'] = 1\n",
    "df['year'] = df.dates.dt.year\n",
    "df['month'] = df.dates.dt.month"
   ]
  },
  {
   "cell_type": "code",
   "execution_count": 113,
   "metadata": {},
   "outputs": [
    {
     "data": {
      "text/html": [
       "<div>\n",
       "<style scoped>\n",
       "    .dataframe tbody tr th:only-of-type {\n",
       "        vertical-align: middle;\n",
       "    }\n",
       "\n",
       "    .dataframe tbody tr th {\n",
       "        vertical-align: top;\n",
       "    }\n",
       "\n",
       "    .dataframe thead th {\n",
       "        text-align: right;\n",
       "    }\n",
       "</style>\n",
       "<table border=\"1\" class=\"dataframe\">\n",
       "  <thead>\n",
       "    <tr style=\"text-align: right;\">\n",
       "      <th></th>\n",
       "      <th>dates</th>\n",
       "      <th>daily_volume</th>\n",
       "      <th>daily_net_sentiment</th>\n",
       "      <th>key_dates</th>\n",
       "      <th>topic</th>\n",
       "      <th>duration</th>\n",
       "      <th>important</th>\n",
       "      <th>year</th>\n",
       "      <th>month</th>\n",
       "    </tr>\n",
       "  </thead>\n",
       "  <tbody>\n",
       "    <tr>\n",
       "      <th>0</th>\n",
       "      <td>2011-01-01</td>\n",
       "      <td>1050.0</td>\n",
       "      <td>-1.8</td>\n",
       "      <td>NaT</td>\n",
       "      <td>NaN</td>\n",
       "      <td>NaN</td>\n",
       "      <td>0</td>\n",
       "      <td>2011.0</td>\n",
       "      <td>1.0</td>\n",
       "    </tr>\n",
       "    <tr>\n",
       "      <th>1</th>\n",
       "      <td>2011-01-02</td>\n",
       "      <td>1019.0</td>\n",
       "      <td>-2.7</td>\n",
       "      <td>NaT</td>\n",
       "      <td>NaN</td>\n",
       "      <td>NaN</td>\n",
       "      <td>0</td>\n",
       "      <td>2011.0</td>\n",
       "      <td>1.0</td>\n",
       "    </tr>\n",
       "    <tr>\n",
       "      <th>2</th>\n",
       "      <td>2011-01-03</td>\n",
       "      <td>5151.0</td>\n",
       "      <td>-2.1</td>\n",
       "      <td>2011-01-03</td>\n",
       "      <td>BAC Sets Up WikiLeaks Defense Team ; BAC elimi...</td>\n",
       "      <td>1.0</td>\n",
       "      <td>1</td>\n",
       "      <td>2011.0</td>\n",
       "      <td>1.0</td>\n",
       "    </tr>\n",
       "    <tr>\n",
       "      <th>3</th>\n",
       "      <td>2011-01-04</td>\n",
       "      <td>3517.0</td>\n",
       "      <td>-3.0</td>\n",
       "      <td>NaT</td>\n",
       "      <td>NaN</td>\n",
       "      <td>NaN</td>\n",
       "      <td>0</td>\n",
       "      <td>2011.0</td>\n",
       "      <td>1.0</td>\n",
       "    </tr>\n",
       "    <tr>\n",
       "      <th>4</th>\n",
       "      <td>2011-01-05</td>\n",
       "      <td>2225.0</td>\n",
       "      <td>-2.4</td>\n",
       "      <td>NaT</td>\n",
       "      <td>NaN</td>\n",
       "      <td>NaN</td>\n",
       "      <td>0</td>\n",
       "      <td>2011.0</td>\n",
       "      <td>1.0</td>\n",
       "    </tr>\n",
       "    <tr>\n",
       "      <th>...</th>\n",
       "      <td>...</td>\n",
       "      <td>...</td>\n",
       "      <td>...</td>\n",
       "      <td>...</td>\n",
       "      <td>...</td>\n",
       "      <td>...</td>\n",
       "      <td>...</td>\n",
       "      <td>...</td>\n",
       "      <td>...</td>\n",
       "    </tr>\n",
       "    <tr>\n",
       "      <th>4484</th>\n",
       "      <td>2022-11-24</td>\n",
       "      <td>4644.0</td>\n",
       "      <td>-2.9</td>\n",
       "      <td>NaT</td>\n",
       "      <td>NaN</td>\n",
       "      <td>NaN</td>\n",
       "      <td>0</td>\n",
       "      <td>2022.0</td>\n",
       "      <td>11.0</td>\n",
       "    </tr>\n",
       "    <tr>\n",
       "      <th>4485</th>\n",
       "      <td>2022-11-25</td>\n",
       "      <td>4233.0</td>\n",
       "      <td>-4.5</td>\n",
       "      <td>NaT</td>\n",
       "      <td>NaN</td>\n",
       "      <td>NaN</td>\n",
       "      <td>0</td>\n",
       "      <td>2022.0</td>\n",
       "      <td>11.0</td>\n",
       "    </tr>\n",
       "    <tr>\n",
       "      <th>4486</th>\n",
       "      <td>2022-11-26</td>\n",
       "      <td>5320.0</td>\n",
       "      <td>-4.9</td>\n",
       "      <td>2022-11-26</td>\n",
       "      <td>New post critical of the Community Affordable ...</td>\n",
       "      <td>1.0</td>\n",
       "      <td>1</td>\n",
       "      <td>2022.0</td>\n",
       "      <td>11.0</td>\n",
       "    </tr>\n",
       "    <tr>\n",
       "      <th>4487</th>\n",
       "      <td>2022-11-27</td>\n",
       "      <td>3797.0</td>\n",
       "      <td>-4.2</td>\n",
       "      <td>NaT</td>\n",
       "      <td>NaN</td>\n",
       "      <td>NaN</td>\n",
       "      <td>0</td>\n",
       "      <td>2022.0</td>\n",
       "      <td>11.0</td>\n",
       "    </tr>\n",
       "    <tr>\n",
       "      <th>4488</th>\n",
       "      <td>NaT</td>\n",
       "      <td>NaN</td>\n",
       "      <td>NaN</td>\n",
       "      <td>2022-11-29</td>\n",
       "      <td>Brian Moynihan predicts a mild recession</td>\n",
       "      <td>1.0</td>\n",
       "      <td>1</td>\n",
       "      <td>NaN</td>\n",
       "      <td>NaN</td>\n",
       "    </tr>\n",
       "  </tbody>\n",
       "</table>\n",
       "<p>4489 rows × 9 columns</p>\n",
       "</div>"
      ],
      "text/plain": [
       "          dates  daily_volume  daily_net_sentiment  key_dates  \\\n",
       "0    2011-01-01        1050.0                 -1.8        NaT   \n",
       "1    2011-01-02        1019.0                 -2.7        NaT   \n",
       "2    2011-01-03        5151.0                 -2.1 2011-01-03   \n",
       "3    2011-01-04        3517.0                 -3.0        NaT   \n",
       "4    2011-01-05        2225.0                 -2.4        NaT   \n",
       "...         ...           ...                  ...        ...   \n",
       "4484 2022-11-24        4644.0                 -2.9        NaT   \n",
       "4485 2022-11-25        4233.0                 -4.5        NaT   \n",
       "4486 2022-11-26        5320.0                 -4.9 2022-11-26   \n",
       "4487 2022-11-27        3797.0                 -4.2        NaT   \n",
       "4488        NaT           NaN                  NaN 2022-11-29   \n",
       "\n",
       "                                                  topic  duration  important  \\\n",
       "0                                                   NaN       NaN          0   \n",
       "1                                                   NaN       NaN          0   \n",
       "2     BAC Sets Up WikiLeaks Defense Team ; BAC elimi...       1.0          1   \n",
       "3                                                   NaN       NaN          0   \n",
       "4                                                   NaN       NaN          0   \n",
       "...                                                 ...       ...        ...   \n",
       "4484                                                NaN       NaN          0   \n",
       "4485                                                NaN       NaN          0   \n",
       "4486  New post critical of the Community Affordable ...       1.0          1   \n",
       "4487                                                NaN       NaN          0   \n",
       "4488           Brian Moynihan predicts a mild recession       1.0          1   \n",
       "\n",
       "        year  month  \n",
       "0     2011.0    1.0  \n",
       "1     2011.0    1.0  \n",
       "2     2011.0    1.0  \n",
       "3     2011.0    1.0  \n",
       "4     2011.0    1.0  \n",
       "...      ...    ...  \n",
       "4484  2022.0   11.0  \n",
       "4485  2022.0   11.0  \n",
       "4486  2022.0   11.0  \n",
       "4487  2022.0   11.0  \n",
       "4488     NaN    NaN  \n",
       "\n",
       "[4489 rows x 9 columns]"
      ]
     },
     "execution_count": 113,
     "metadata": {},
     "output_type": "execute_result"
    }
   ],
   "source": [
    "df"
   ]
  },
  {
   "cell_type": "markdown",
   "metadata": {},
   "source": [
    "# Part 2: Explore the dataset"
   ]
  },
  {
   "cell_type": "markdown",
   "metadata": {},
   "source": [
    "Part 2.1: Plot some graphs"
   ]
  },
  {
   "cell_type": "markdown",
   "metadata": {},
   "source": [
    "Important events clearly have more traffic the normal events"
   ]
  },
  {
   "cell_type": "code",
   "execution_count": 40,
   "metadata": {},
   "outputs": [
    {
     "name": "stdout",
     "output_type": "stream",
     "text": [
      "Mean daily volume for events with important == 0: 4852.489295687248\n",
      "Mean daily volume for events with important == 1: 7700.897233201581\n"
     ]
    },
    {
     "data": {
      "image/png": "[encoded data removed]",
      "text/plain": [
       "<Figure size 1296x648 with 1 Axes>"
      ]
     },
     "metadata": {
      "needs_background": "light"
     },
     "output_type": "display_data"
    }
   ],
   "source": [
    "print('Mean daily volume for events with important == 0:', df.groupby('important')['daily_volume'].mean()[0])\n",
    "print('Mean daily volume for events with important == 1:', df.groupby('important')['daily_volume'].mean()[1])\n",
    "plt.figure(figsize=(18,9))\n",
    "sns.lineplot(data=df, x='dates', y='daily_volume', hue='important')\n",
    "plt.title('Daily Volume over 10 years')\n",
    "plt.show()"
   ]
  },
  {
   "cell_type": "code",
   "execution_count": null,
   "metadata": {},
   "outputs": [],
   "source": []
  }
 ],
 "metadata": {
  "kernelspec": {
   "display_name": "Python 3 (ipykernel)",
   "language": "python",
   "name": "python3"
  },
  "language_info": {
   "codemirror_mode": {
    "name": "ipython",
    "version": 3
   },
   "file_extension": ".py",
   "mimetype": "text/x-python",
   "name": "python",
   "nbconvert_exporter": "python",
   "pygments_lexer": "ipython3",
   "version": "3.9.12"
  },
  "vscode": {
   "interpreter": {
    "hash": "6a8c68abe8252a9498162bea0e66441127d8e25291ab42cf0e88523ef49156a9"
   }
  }
 },
 "nbformat": 4,
 "nbformat_minor": 2
}
